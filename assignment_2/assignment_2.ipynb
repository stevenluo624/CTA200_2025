{
 "cells": [
  {
   "cell_type": "markdown",
   "metadata": {},
   "source": [
    "# Assignment II"
   ]
  },
  {
   "cell_type": "markdown",
   "metadata": {},
   "source": [
    "## Part I"
   ]
  },
  {
   "cell_type": "code",
   "execution_count": 2,
   "metadata": {},
   "outputs": [],
   "source": [
    "'''\n",
    "This function calculates the formula x^3 - x^2 - 1 for any given x\n",
    "Parameters: \n",
    "x -- integer/float value\n",
    "Returns:\n",
    "x**3 - x**2 - 1 -- integer/float value of the calculation f(x)\n",
    "'''\n",
    "def f(x):\n",
    "    return x**3 - x**2 - 1\n",
    "\n",
    "'''\n",
    "This function calculates the derivative of x^3 - x^2 - 1 for any given x\n",
    "Parameters: \n",
    "x -- integer/float value\n",
    "Returns:\n",
    "3x^2 - 2x -- integer/float value of the calculation f(x)\n",
    "'''\n",
    "def df(x):\n",
    "    return 3*(x**2) - 2*x"
   ]
  },
  {
   "cell_type": "markdown",
   "metadata": {},
   "source": [
    "Part II"
   ]
  },
  {
   "cell_type": "code",
   "execution_count": 3,
   "metadata": {},
   "outputs": [],
   "source": [
    "'''\n",
    "This function simualates the newton iteration to finds the root xn to the function f such f(xn) = 0\n",
    "Parameter:\n",
    "f - the function f\n",
    "df - the derivaive of the function f\n",
    "x - the value in the first(0th) iteration\n",
    "epsilon - the lower bound indicating the value is valid if f(x) < epsilon\n",
    "max_iter - maximum number of iterations allowed\n",
    "'''\n",
    "def newton(f, df, x, epsilon=1e-6, max_iter=30):\n",
    "    n = 0\n",
    "    while n <= max_iter and abs(f(x)) >= epsilon:\n",
    "        x = x - f(x) / df(x)\n",
    "        n += 1\n",
    "    if abs(f(x)) < epsilon:\n",
    "        print(f\"Found root in {n} iterations\")\n",
    "        return x\n",
    "    else:\n",
    "        print(\"Iterations failed\")\n",
    "        return None"
   ]
  },
  {
   "cell_type": "markdown",
   "metadata": {},
   "source": [
    "## Part III"
   ]
  },
  {
   "cell_type": "code",
   "execution_count": 4,
   "metadata": {},
   "outputs": [
    {
     "name": "stdout",
     "output_type": "stream",
     "text": [
      "Found root in 9 iterations\n",
      "The value for the root is approximately 1.465571232470246\n",
      "Found root in 28 iterations\n",
      "The value for the root is approximately 1.4655712448250924\n"
     ]
    }
   ],
   "source": [
    "x1 = 10\n",
    "print(f\"The value for the root is approximately {newton(f, df, x1)}\")\n",
    "\n",
    "x2 = 23456\n",
    "print(f\"The value for the root is approximately {newton(f, df, x2)}\")"
   ]
  },
  {
   "cell_type": "markdown",
   "metadata": {},
   "source": [
    "In the following code, we will change the value of epsilon from 1e-6 to 1e-8 to experiment"
   ]
  },
  {
   "cell_type": "code",
   "execution_count": 5,
   "metadata": {},
   "outputs": [
    {
     "name": "stdout",
     "output_type": "stream",
     "text": [
      "Found root in 9 iterations\n",
      "The value for the root is approximately 1.465571232470246\n",
      "Found root in 29 iterations\n",
      "The value for the root is approximately 1.4655712318767682\n"
     ]
    }
   ],
   "source": [
    "x1 = 10\n",
    "print(f\"The value for the root is approximately {newton(f, df, x1, 1e-8)}\")\n",
    "\n",
    "x2 = 23456\n",
    "print(f\"The value for the root is approximately {newton(f, df, x2, 1e-8)}\")"
   ]
  },
  {
   "cell_type": "markdown",
   "metadata": {},
   "source": [
    "From the above observation, there is no change in the number of iterations for x = 10\n",
    "But there is one extra iteration for x = 23456"
   ]
  }
 ],
 "metadata": {
  "kernelspec": {
   "display_name": "Python 3",
   "language": "python",
   "name": "python3"
  },
  "language_info": {
   "codemirror_mode": {
    "name": "ipython",
    "version": 3
   },
   "file_extension": ".py",
   "mimetype": "text/x-python",
   "name": "python",
   "nbconvert_exporter": "python",
   "pygments_lexer": "ipython3",
   "version": "3.10.16"
  }
 },
 "nbformat": 4,
 "nbformat_minor": 2
}
